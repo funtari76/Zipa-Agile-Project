{
 "cells": [
  {
   "cell_type": "code",
   "execution_count": 3,
   "metadata": {},
   "outputs": [
    {
     "ename": "ModuleNotFoundError",
     "evalue": "No module named 'pandas'",
     "output_type": "error",
     "traceback": [
      "\u001b[0;31m---------------------------------------------------------------------------\u001b[0m",
      "\u001b[0;31mModuleNotFoundError\u001b[0m                       Traceback (most recent call last)",
      "Cell \u001b[0;32mIn [3], line 1\u001b[0m\n\u001b[0;32m----> 1\u001b[0m \u001b[39mimport\u001b[39;00m \u001b[39mpandas\u001b[39;00m\n\u001b[1;32m      2\u001b[0m \u001b[39mfrom\u001b[39;00m \u001b[39msklearn\u001b[39;00m \u001b[39mimport\u001b[39;00m tree\n\u001b[1;32m      3\u001b[0m \u001b[39mimport\u001b[39;00m \u001b[39mpydotplus\u001b[39;00m\n",
      "\u001b[0;31mModuleNotFoundError\u001b[0m: No module named 'pandas'"
     ]
    }
   ],
   "source": [
    "import pandas\n",
    "from sklearn import tree\n",
    "import pydotplus\n",
    "from sklearn.tree import DecisionTreeClassifier\n",
    "import matplotlib.pyplot as plt\n",
    "import matplotlib.image as pltimg\n",
    "from sklearn.metrics import classification_report, plot_confusion_matrix, plot_roc_curve\n",
    "from sklearn.model_selection import train_test_split\n",
    "from sklearn.preprocessing import StandardScaler\n",
    "import joblib\n"
   ]
  },
  {
   "cell_type": "code",
   "execution_count": null,
   "metadata": {},
   "outputs": [
    {
     "ename": "NameError",
     "evalue": "name 'pandas' is not defined",
     "output_type": "error",
     "traceback": [
      "\u001b[0;31m---------------------------------------------------------------------------\u001b[0m",
      "\u001b[0;31mNameError\u001b[0m                                 Traceback (most recent call last)",
      "Cell \u001b[0;32mIn [1], line 1\u001b[0m\n\u001b[0;32m----> 1\u001b[0m df \u001b[39m=\u001b[39m pandas\u001b[39m.\u001b[39mread_csv(\u001b[39m\"\u001b[39m\u001b[39mhttps://raw.githubusercontent.com/paulwababu/datasets/main/drug200.csv\u001b[39m\u001b[39m\"\u001b[39m)\n\u001b[1;32m      2\u001b[0m \u001b[39mprint\u001b[39m(df\u001b[39m.\u001b[39mhead())\n",
      "\u001b[0;31mNameError\u001b[0m: name 'pandas' is not defined"
     ]
    }
   ],
   "source": [
    "df = pandas.read_csv(\"\")\n",
    "print(df.head())\n"
   ]
  },
  {
   "cell_type": "markdown",
   "metadata": {},
   "source": []
  },
  {
   "cell_type": "code",
   "execution_count": null,
   "metadata": {},
   "outputs": [],
   "source": [
    "Age Sex      BP Cholesterol  Na_to_K   Drug\n",
    "0   23   F    HIGH        HIGH   25.355  drugY\n",
    "1   47   M     LOW        HIGH   13.093  drugC\n",
    "2   47   M     LOW        HIGH   10.114  drugC\n",
    "3   28   F  NORMAL        HIGH    7.798  drugX\n",
    "4   61   F     LOW        HIGH   18.043  drugY\n",
    "\n"
   ]
  },
  {
   "cell_type": "code",
   "execution_count": null,
   "metadata": {},
   "outputs": [],
   "source": [
    "#Change string values into numerical values:\n",
    "d = {'M': 1, 'F': 0}\n",
    "df['Sex'] = df['Sex'].map(d)\n",
    "\n",
    "d = {'HIGH': 0, 'LOW': 1, 'NORMAL': 2}\n",
    "df['BP'] = df['BP'].map(d)\n",
    "\n",
    "d = {'HIGH': 0, 'LOW': 1, 'NORMAL': 2}\n",
    "df['Cholesterol'] = df['Cholesterol'].map(d)\n",
    "print(df.head())\n",
    "\n"
   ]
  },
  {
   "cell_type": "code",
   "execution_count": null,
   "metadata": {},
   "outputs": [],
   "source": [
    "   Age  Sex  BP  Cholesterol  Na_to_K   Drug\n",
    "0   23    0   0            0   25.355  drugY\n",
    "1   47    1   1            0   13.093  drugC\n",
    "2   47    1   1            0   10.114  drugC\n",
    "3   28    0   2            0    7.798  drugX\n",
    "4   61    0   1            0   18.043  drugY\n",
    "\n"
   ]
  },
  {
   "cell_type": "code",
   "execution_count": null,
   "metadata": {},
   "outputs": [],
   "source": [
    "#independent variables\n",
    "features = ['Age', 'Sex', 'BP', 'Cholesterol', 'Na_to_K']\n",
    "X = df[features]\n",
    "\n",
    "#dependent variable\n",
    "y = df['Drug']\n",
    "\n"
   ]
  },
  {
   "cell_type": "code",
   "execution_count": null,
   "metadata": {},
   "outputs": [],
   "source": [
    " Age  Sex  BP  Cholesterol  Na_to_K\n",
    "0     23    0   0            0   25.355\n",
    "1     47    1   1            0   13.093\n",
    "2     47    1   1            0   10.114\n",
    "3     28    0   2            0    7.798\n",
    "4     61    0   1            0   18.043\n",
    "..   ...  ...  ..          ...      ...\n",
    "195   56    0   1            0   11.567\n",
    "196   16    1   1            0   12.006\n",
    "197   52    1   2            0    9.894\n",
    "198   23    1   2            2   14.020\n",
    "199   40    0   1            2   11.349\n",
    "\n",
    "[200 rows x 5 columns]\n",
    "0      drugY\n",
    "1      drugC\n",
    "2      drugC\n",
    "3      drugX\n",
    "4      drugY\n",
    "       ...  \n",
    "195    drugC\n",
    "196    drugC\n",
    "197    drugX\n",
    "\n"
   ]
  },
  {
   "cell_type": "code",
   "execution_count": null,
   "metadata": {},
   "outputs": [],
   "source": [
    "dtree = DecisionTreeClassifier()\n",
    "dtree = dtree.fit(X, y)\n",
    "data = tree.export_graphviz(dtree, out_file=None, feature_names=features)\n",
    "graph = pydotplus.graph_from_dot_data(data)\n",
    "graph.write_png('mydecisiontree2.png')\n",
    "\n",
    "img=pltimg.imread('mydecisiontree2.png')\n",
    "imgplot = plt.imshow(img)\n",
    "plt.show()\n",
    "\n"
   ]
  },
  {
   "cell_type": "code",
   "execution_count": 4,
   "metadata": {},
   "outputs": [
    {
     "ename": "NameError",
     "evalue": "name 'df' is not defined",
     "output_type": "error",
     "traceback": [
      "\u001b[0;31m---------------------------------------------------------------------------\u001b[0m",
      "\u001b[0;31mNameError\u001b[0m                                 Traceback (most recent call last)",
      "Cell \u001b[0;32mIn [4], line 1\u001b[0m\n\u001b[0;32m----> 1\u001b[0m \u001b[39mprint\u001b[39m(df[\u001b[39m'\u001b[39m\u001b[39mDrug\u001b[39m\u001b[39m'\u001b[39m]\u001b[39m.\u001b[39mvalue_counts())\n",
      "\u001b[0;31mNameError\u001b[0m: name 'df' is not defined"
     ]
    }
   ],
   "source": []
  },
  {
   "cell_type": "code",
   "execution_count": null,
   "metadata": {},
   "outputs": [],
   "source": [
    "print(df['Drug'].value_counts())\n"
   ]
  },
  {
   "cell_type": "code",
   "execution_count": null,
   "metadata": {},
   "outputs": [],
   "source": [
    "print(dtree.predict([[68, 0, 2, 2, 27.10]]))\n",
    "# ['drugY'] will be the output\n"
   ]
  },
  {
   "cell_type": "code",
   "execution_count": null,
   "metadata": {},
   "outputs": [],
   "source": [
    "# Save the model\n",
    "joblib_file = \"DecisionTreeModel.joblib\"\n",
    "joblib.dump(dtree, joblib_file) \n"
   ]
  },
  {
   "cell_type": "code",
   "execution_count": null,
   "metadata": {},
   "outputs": [],
   "source": []
  }
 ],
 "metadata": {
  "kernelspec": {
   "display_name": "Python 3",
   "language": "python",
   "name": "python3"
  },
  "language_info": {
   "codemirror_mode": {
    "name": "ipython",
    "version": 3
   },
   "file_extension": ".py",
   "mimetype": "text/x-python",
   "name": "python",
   "nbconvert_exporter": "python",
   "pygments_lexer": "ipython3",
   "version": "3.8.13"
  },
  "orig_nbformat": 4,
  "vscode": {
   "interpreter": {
    "hash": "9ac03a0a6051494cc606d484d27d20fce22fb7b4d169f583271e11d5ba46a56e"
   }
  }
 },
 "nbformat": 4,
 "nbformat_minor": 2
}
